{
 "metadata": {
  "language_info": {
   "codemirror_mode": {
    "name": "ipython",
    "version": 3
   },
   "file_extension": ".py",
   "mimetype": "text/x-python",
   "name": "python",
   "nbconvert_exporter": "python",
   "pygments_lexer": "ipython3",
   "version": "3.9.6"
  },
  "orig_nbformat": 4,
  "kernelspec": {
   "name": "python3",
   "display_name": "Python 3.9.6 64-bit"
  },
  "interpreter": {
   "hash": "ac59ebe37160ed0dfa835113d9b8498d9f09ceb179beaac4002f036b9467c963"
  }
 },
 "nbformat": 4,
 "nbformat_minor": 2,
 "cells": [
  {
   "cell_type": "code",
   "execution_count": 2,
   "metadata": {},
   "outputs": [
    {
     "output_type": "stream",
     "name": "stdout",
     "text": [
      "True\nFalse\nWed\n5\n['Mon', 'Tue', 'Wed', 'Thur', 'Fri', 'Sat']\n"
     ]
    }
   ],
   "source": [
    "# nomad python course theory\n",
    "days = [\"Mon\", \"Tue\", \"Wed\", \"Thur\", \"Fri\"] # Lists in Python\n",
    "\n",
    "print(\"Mon\" in days)\n",
    "print(\"Man\" in days)\n",
    "print(days[2]) #3번째 요일은?\n",
    "print(len(days)) #days의 길이는?\n",
    "days.append(\"Sat\")\n",
    "print(days)"
   ]
  },
  {
   "cell_type": "code",
   "execution_count": 3,
   "metadata": {},
   "outputs": [
    {
     "output_type": "stream",
     "name": "stdout",
     "text": [
      "('Mon', 'Tue', 'Wed', 'Thur', 'Fri')\n"
     ]
    }
   ],
   "source": [
    "days = (\"Mon\", \"Tue\", \"Wed\", \"Thur\", \"Fri\") # tuple\n",
    "\n",
    "print(days)\n"
   ]
  },
  {
   "cell_type": "code",
   "execution_count": 8,
   "metadata": {},
   "outputs": [
    {
     "output_type": "stream",
     "name": "stdout",
     "text": [
      "{'name': 'LKH', 'age': 23, 'korean': True, 'fav_food': ['Kimchi']}\n23\n['Kimchi']\n{'name': 'LKH', 'age': 23, 'korean': True, 'fav_food': ['Kimchi'], 'Like Sports': True}\n"
     ]
    }
   ],
   "source": [
    "LKH = {\n",
    "    \"name\" : \"LKH\",\n",
    "    \"age\" : 23,\n",
    "    \"korean\" : True,\n",
    "    \"fav_food\" : [\"Kimchi\"]\n",
    "}\n",
    "\n",
    "print(LKH)\n",
    "print(LKH[\"age\"])\n",
    "print(LKH[\"fav_food\"])\n",
    "LKH[\"Like Sports\"] = True\n",
    "print(LKH)"
   ]
  },
  {
   "cell_type": "code",
   "execution_count": 9,
   "metadata": {},
   "outputs": [
    {
     "output_type": "stream",
     "name": "stdout",
     "text": [
      "23\n<class 'str'>\n23\n<class 'int'>\n"
     ]
    }
   ],
   "source": [
    "age = \"23\"\n",
    "\n",
    "print(age)\n",
    "print(type(age))\n",
    "\n",
    "n_age = int(age)\n",
    "print(n_age)\n",
    "print(type(n_age))"
   ]
  },
  {
   "cell_type": "code",
   "execution_count": 11,
   "metadata": {},
   "outputs": [
    {
     "output_type": "stream",
     "name": "stdout",
     "text": [
      "hello\nbye\n"
     ]
    }
   ],
   "source": [
    "def say_hello():\n",
    "    print(\"hello\")\n",
    "    print(\"bye\")\n",
    "say_hello()"
   ]
  },
  {
   "cell_type": "code",
   "execution_count": 13,
   "metadata": {},
   "outputs": [
    {
     "output_type": "stream",
     "name": "stdout",
     "text": [
      "hello LKH\nhello LHS\n"
     ]
    }
   ],
   "source": [
    "def say_hello(who):\n",
    "    print(\"hello\", who)\n",
    "\n",
    "say_hello(\"LKH\")\n",
    "say_hello(\"LHS\")"
   ]
  },
  {
   "cell_type": "code",
   "execution_count": 16,
   "metadata": {},
   "outputs": [
    {
     "output_type": "stream",
     "name": "stdout",
     "text": [
      "8\n16\n"
     ]
    }
   ],
   "source": [
    "def plus(a, b):\n",
    "    print(a + b)\n",
    "\n",
    "def power(a, b):\n",
    "    print(a ** b)\n",
    "\n",
    "plus(3, 5)\n",
    "power(2, 4)"
   ]
  },
  {
   "cell_type": "code",
   "execution_count": 18,
   "metadata": {},
   "outputs": [
    {
     "output_type": "stream",
     "name": "stdout",
     "text": [
      "11\n"
     ]
    }
   ],
   "source": [
    "def plus(a, b):\n",
    "    return a + b   #함수를 종료시킴ef plus(a, b):\n",
    "        return a + b   #함수를 종료시킴\n",
    "\n",
    "        result = plus(5, 6)\n",
    "        print(result)\n",
    "\n",
    "result = plus(5, 6)\n",
    "print(result)"
   ]
  },
  {
   "cell_type": "code",
   "execution_count": null,
   "metadata": {},
   "outputs": [],
   "source": []
  }
 ]
}