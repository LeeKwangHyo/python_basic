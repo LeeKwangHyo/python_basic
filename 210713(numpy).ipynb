{
 "metadata": {
  "language_info": {
   "codemirror_mode": {
    "name": "ipython",
    "version": 3
   },
   "file_extension": ".py",
   "mimetype": "text/x-python",
   "name": "python",
   "nbconvert_exporter": "python",
   "pygments_lexer": "ipython3",
   "version": "3.8.8"
  },
  "orig_nbformat": 4,
  "kernelspec": {
   "name": "python3",
   "display_name": "Python 3.8.8 64-bit ('base': conda)"
  },
  "interpreter": {
   "hash": "183bbf6827d058c2a2fb0f4acdc0420849dda2b4380af0e437e38c64d798d8b7"
  }
 },
 "nbformat": 4,
 "nbformat_minor": 2,
 "cells": [
  {
   "cell_type": "code",
   "execution_count": 3,
   "metadata": {},
   "outputs": [
    {
     "output_type": "stream",
     "name": "stdout",
     "text": [
      "3\nint32\n3\n"
     ]
    }
   ],
   "source": [
    "import numpy as np\n",
    "\n",
    "array = np.array([1, 2, 3])\n",
    "print(array.size) #배열의 크기\n",
    "print(array.dtype) #배열 원소의 타입\n",
    "print(array[2]) #인덱스 2의 원소\n"
   ]
  },
  {
   "cell_type": "code",
   "execution_count": 8,
   "metadata": {},
   "outputs": [
    {
     "output_type": "stream",
     "name": "stdout",
     "text": [
      "[0 1 2 3]\n[[0. 0. 0. 0.]\n [0. 0. 0. 0.]\n [0. 0. 0. 0.]\n [0. 0. 0. 0.]]\n[['1' '1' '1' '1']\n ['1' '1' '1' '1']\n ['1' '1' '1' '1']]\n[[5 5 3]\n [3 9 1]\n [1 7 0]]\n[[ 2.26266415  0.58501134  1.34265861]\n [-0.97928398 -0.00904099  0.06407755]\n [ 1.00126715  0.44196952  0.46572961]]\n"
     ]
    }
   ],
   "source": [
    "import numpy as np\n",
    "#0부터 3까지의 배열\n",
    "array1 = np.arange(4)\n",
    "print(array1)\n",
    "#0으로 초기화시킨 4 by 4의 배열(실수)\n",
    "array2 = np.zeros((4, 4), dtype = float)\n",
    "print(array2)\n",
    "#1로 초기화시킨 3 by 3의 배열(문자)\n",
    "array3 = np.ones((3, 4), dtype = str)\n",
    "print(array3)\n",
    "#0부터 9까지 랜덤하게 초기화된 배열\n",
    "array4 = np.random.randint(0, 10, (3, 3))\n",
    "print(array4)\n",
    "#평균이 0이고 표준편차가 1인 표준 정규를 띄는 배열\n",
    "array5 = np.random.normal(0, 1, (3, 3))\n",
    "print(array5)"
   ]
  },
  {
   "cell_type": "code",
   "execution_count": 10,
   "metadata": {},
   "outputs": [
    {
     "output_type": "stream",
     "name": "stdout",
     "text": [
      "(6,)\n[1 2 3 4 5 6]\n"
     ]
    }
   ],
   "source": [
    "import numpy as np\n",
    "\n",
    "array1 = np.array([1, 2, 3])\n",
    "array2 = np.array([4, 5, 6])\n",
    "array3 = np.concatenate([array1, array2]) # 배열 합치기(열 방향)\n",
    "\n",
    "print(array3.shape)\n",
    "print(array3)"
   ]
  },
  {
   "cell_type": "code",
   "execution_count": 11,
   "metadata": {},
   "outputs": [
    {
     "output_type": "stream",
     "name": "stdout",
     "text": [
      "(3, 4)\n[[0 1 2 3]\n [0 1 2 3]\n [4 5 6 7]]\n"
     ]
    }
   ],
   "source": [
    "import numpy as np\n",
    "\n",
    "array1 = np.arange(4).reshape(1,4) # 1 by 4로 모양 바꾸기\n",
    "array2 = np.arange(8).reshape(2,4)\n",
    "array3 = np.concatenate([array1, array2], axis = 0) # 행 방향으로 더하기\n",
    "\n",
    "print(array3.shape)\n",
    "print(array3)"
   ]
  },
  {
   "cell_type": "code",
   "execution_count": 12,
   "metadata": {},
   "outputs": [
    {
     "output_type": "stream",
     "name": "stdout",
     "text": [
      "(2, 2)\n[[1 2]\n [3 4]]\n"
     ]
    }
   ],
   "source": [
    "import numpy as np\n",
    "\n",
    "array1 = np.array([1, 2, 3, 4])\n",
    "array2 = array1.reshape(2, 2)\n",
    "\n",
    "print(array2.shape)\n",
    "print(array2)"
   ]
  },
  {
   "cell_type": "code",
   "execution_count": 15,
   "metadata": {},
   "outputs": [
    {
     "output_type": "stream",
     "name": "stdout",
     "text": [
      "(2, 2)\n(2, 2)\n7\n"
     ]
    }
   ],
   "source": [
    "import numpy as np\n",
    "\n",
    "array = np.arange(8).reshape(2,4)\n",
    "left, right = np.split(array, [2], axis = 1) # [2]를 기준으로 좌우 나누기mport numpy as np\n",
    "\n",
    "array = np.arange(8).reshape(2,4)\n",
    "left, right = np.split(array, [2], axis = 1) # [2]를 기준으로 좌우 나누기\n",
    "\n",
    "print(left.shape)\n",
    "print(right.shape)\n",
    "print(right[1][1])\n",
    "\n",
    "print(left.shape)\n",
    "print(right.shape)\n",
    "print(right[1][1])"
   ]
  },
  {
   "cell_type": "code",
   "execution_count": 17,
   "metadata": {},
   "outputs": [
    {
     "output_type": "stream",
     "name": "stdout",
     "text": [
      "[[3 5]\n [5 4]]\n[[30 50]\n [50 40]]\n"
     ]
    }
   ],
   "source": [
    "import numpy as np\n",
    "\n",
    "array = np.random.randint(1, 9, size = 4).reshape(2, 2)\n",
    "print(array)\n",
    "result_array = array * 10\n",
    "print(result_array)"
   ]
  },
  {
   "cell_type": "code",
   "execution_count": 18,
   "metadata": {},
   "outputs": [
    {
     "output_type": "stream",
     "name": "stdout",
     "text": [
      "[[0 2]\n [2 4]]\n"
     ]
    }
   ],
   "source": [
    "import numpy as np\n",
    "\n",
    "array1 = np.arange(4).reshape(2, 2)\n",
    "array2 = np.arange(2)\n",
    "\n",
    "array3 = array1 + array2\n",
    "\n",
    "print(array3)\n"
   ]
  },
  {
   "cell_type": "code",
   "execution_count": 21,
   "metadata": {},
   "outputs": [
    {
     "output_type": "stream",
     "name": "stdout",
     "text": [
      "[[0 1 2 3]\n [4 5 6 7]\n [0 1 2 3]\n [4 5 6 7]]\n[[0]\n [1]\n [2]\n [3]]\n[[ 0  1  2  3]\n [ 5  6  7  8]\n [ 2  3  4  5]\n [ 7  8  9 10]]\n"
     ]
    }
   ],
   "source": [
    "import numpy as np\n",
    "\n",
    "array1 = np.arange(0, 8).reshape(2, 4)\n",
    "array2 = np.arange(0, 8).reshape(2, 4)\n",
    "array3 = np.concatenate([array1, array2], axis=0)\n",
    "array4 = np.arange(0, 4).reshape(4, 1)\n",
    "\n",
    "print(array3)\n",
    "print(array4)\n",
    "print(array3 + array4) # 브로드캐스트 : 배열을 동적으로 사용용"
   ]
  },
  {
   "cell_type": "code",
   "execution_count": 26,
   "metadata": {},
   "outputs": [
    {
     "output_type": "stream",
     "name": "stdout",
     "text": [
      "[[ 0  1  2  3]\n [ 4  5  6  7]\n [ 8  9 10 11]\n [12 13 14 15]]\n[[ True  True  True  True]\n [ True  True  True  True]\n [ True  True False False]\n [False False False False]]\n[[100 100 100 100]\n [100 100 100 100]\n [100 100  10  11]\n [ 12  13  14  15]]\n"
     ]
    }
   ],
   "source": [
    "#마스킹 연산 : 각 원소에 대한 조건 체크\n",
    "import numpy as np\n",
    "\n",
    "array1 = np.arange(16).reshape(4, 4)\n",
    "print(array1)\n",
    "array2 = array1 <10\n",
    "print(array2)\n",
    "\n",
    "array1[array2] = 100 # 조건을 만족하는 원소를 100으로 변환마스킹 연산 : 각 원소에 대한 조건 체크\n",
    "import numpy as np\n",
    "\n",
    "array1 = np.arange(16).reshape(4, 4)\n",
    "print(array1)\n",
    "array2 = array1 <10\n",
    "print(array2)\n",
    "\n",
    "array1[array2] = 100 # 조건을 만족하는 원소를 100으로 변환\n",
    "print(array1)\n",
    "\n",
    "print(array1)\n",
    "\n",
    "\n"
   ]
  },
  {
   "cell_type": "code",
   "execution_count": 28,
   "metadata": {},
   "outputs": [
    {
     "output_type": "stream",
     "name": "stdout",
     "text": [
      "Max:  15\nmin:  0\nSum:  120\nMean:  7.5\n합계: [24 28 32 36]\n"
     ]
    }
   ],
   "source": [
    "import numpy as np\n",
    "\n",
    "array = np.arange(16).reshape(4, 4)\n",
    "\n",
    "print(\"Max: \", np.max(array))\n",
    "print(\"min: \", np.min(array))\n",
    "print(\"Sum: \", np.sum(array))\n",
    "print(\"Mean: \", np.mean(array))\n",
    "\n",
    "print(\"합계:\", np.sum(array, axis=0))\n"
   ]
  },
  {
   "cell_type": "code",
   "execution_count": 29,
   "metadata": {},
   "outputs": [],
   "source": [
    "import numpy as np\n",
    "\n",
    "#단일 객체 저장 및 불러오기\n",
    "array = np.arange(0, 10)\n",
    "np.save('saved.npy', array)\n",
    "\n",
    "result = np.load('saved.npy')\n",
    "print(result)\n",
    "\n",
    "#복수 객체 저장 및 불러오기\n",
    "array1 = np.arange(0, 10)\n",
    "array2 = np.arange(10, 20)\n",
    "no.savez('saved.npz', array1 = array1 , array2 = array2)\n",
    "\n",
    "data = np.load('saved.npz')\n",
    "result1 = data['array1']\n",
    "result2 = data['array2']\n",
    "print(result1)\n",
    "print(result2)"
   ]
  },
  {
   "cell_type": "code",
   "execution_count": 32,
   "metadata": {},
   "outputs": [
    {
     "output_type": "stream",
     "name": "stdout",
     "text": [
      "[1 2 5 6 8]\n[8 6 5 2 1]\n"
     ]
    }
   ],
   "source": [
    "import numpy as np\n",
    "\n",
    "#Numpy 원소 정렬\n",
    "array = np.array([5, 6, 2, 8, 1])\n",
    "array.sort() #정렬함수mport numpy as np\n",
    "\n",
    "print(array[::1]) # 오름차순\n",
    "print(array[::-1]) # 내림차순\n"
   ]
  },
  {
   "cell_type": "code",
   "execution_count": 35,
   "metadata": {},
   "outputs": [
    {
     "output_type": "stream",
     "name": "stdout",
     "text": [
      "[[1 5 7 2 3]\n [6 4 7 5 9]]\n[[1 4 7 2 3]\n [6 5 7 5 9]]\n"
     ]
    }
   ],
   "source": [
    "import numpy as np\n",
    "\n",
    "#열을 기준으로 정렬\n",
    "array = np.array([[1, 5, 7, 2, 3], [6, 4, 7, 5, 9]])\n",
    "print(array)\n",
    "array.sort(axis = 0) # 각각의 열을 비교해서 더 큰 숫자가 아래로 내려가게 됨\n",
    "print(array)"
   ]
  },
  {
   "cell_type": "code",
   "execution_count": 43,
   "metadata": {},
   "outputs": [
    {
     "output_type": "stream",
     "name": "stdout",
     "text": [
      "[ 0.   2.5  5.   7.5 10. ]\n[[4 9 6]\n [3 3 7]]\n[0 1 2 3 4 5 6 7 8 9]\n[1 2 3 4]\n"
     ]
    }
   ],
   "source": [
    "import numpy as np\n",
    "\n",
    "#균일한 간격으로 데이터 생성\n",
    "array = np.linspace(0, 10, 5)\n",
    "print(array)\n",
    "\n",
    "#난수의 재연(실행마다 결과 동일)\n",
    "np.random.seed(7) # 실행결과를 일정하도록 만듦\n",
    "print(np.random.randint(0, 10, (2, 3)))\n",
    "\n",
    "#Numpy 배열 객체 복사 (array1에게는 변화가 없음)\n",
    "array1 = np.arange(0, 10)\n",
    "array2 = array2.copy()\n",
    "array2[0] = 99\n",
    "print(array1)\n",
    "\n",
    "#중복된 원소 제거\n",
    "array = np.array([1, 1, 2, 2, 3, 3, 4])\n",
    "print(np.unique(array))"
   ]
  },
  {
   "cell_type": "code",
   "execution_count": null,
   "metadata": {},
   "outputs": [],
   "source": []
  }
 ]
}