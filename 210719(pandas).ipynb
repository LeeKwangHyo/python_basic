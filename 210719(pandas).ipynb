{
 "metadata": {
  "language_info": {
   "codemirror_mode": {
    "name": "ipython",
    "version": 3
   },
   "file_extension": ".py",
   "mimetype": "text/x-python",
   "name": "python",
   "nbconvert_exporter": "python",
   "pygments_lexer": "ipython3",
   "version": "3.8.8"
  },
  "orig_nbformat": 4,
  "kernelspec": {
   "name": "python3",
   "display_name": "Python 3.8.8 64-bit ('base': conda)"
  },
  "interpreter": {
   "hash": "183bbf6827d058c2a2fb0f4acdc0420849dda2b4380af0e437e38c64d798d8b7"
  }
 },
 "nbformat": 4,
 "nbformat_minor": 2,
 "cells": [
  {
   "cell_type": "code",
   "execution_count": 1,
   "metadata": {},
   "outputs": [
    {
     "output_type": "stream",
     "name": "stdout",
     "text": [
      "a     사과\nb    바나나\nc     당근\ndtype: object\n사과\n"
     ]
    }
   ],
   "source": [
    "import pandas as pd\n",
    "\n",
    "array = pd.Series(['사과', '바나나', '당근'], index = ['a','b', 'c'])\n",
    "print (array)\n",
    "print(array['a'])"
   ]
  },
  {
   "cell_type": "code",
   "execution_count": 8,
   "metadata": {},
   "outputs": [
    {
     "output_type": "stream",
     "name": "stdout",
     "text": [
      "바나나\n"
     ]
    }
   ],
   "source": [
    "import pandas as pd\n",
    "\n",
    "data = {\n",
    "    'a' : '사과',\n",
    "    'b' : '바나나',\n",
    "    'c' : '당근'\n",
    "}\n",
    "\n",
    "#Dict 자료형을 Series로 바꾸기\n",
    "array = pd.Series(data)\n",
    "print(array['b'])"
   ]
  },
  {
   "cell_type": "code",
   "execution_count": 11,
   "metadata": {},
   "outputs": [
    {
     "output_type": "stream",
     "name": "stdout",
     "text": [
      "       word  frequency\nApple    사과          5\nBanana  바나나          6\nCarrot   당근          6\n"
     ]
    }
   ],
   "source": [
    "#데이터 프레임\n",
    "import pandas as pd\n",
    "\n",
    "word_dict = {\n",
    "    'Apple' : '사과',\n",
    "    'Banana' : '바나나',\n",
    "    'Carrot' : '당근'\n",
    "}\n",
    "\n",
    "frequency_dict = {\n",
    "    'Apple' : 5,\n",
    "    'Banana' : 6,\n",
    "    \"Carrot\" : 6\n",
    "}\n",
    "\n",
    "word = pd.Series(word_dict)\n",
    "frequency = pd.Series(frequency_dict)\n",
    "\n",
    "#이름(Name) : 값(Values)\n",
    "summary = pd.DataFrame({\n",
    "    'word' : word,\n",
    "    'frequency' : frequency\n",
    "})\n",
    "\n",
    "print(summary)"
   ]
  },
  {
   "cell_type": "code",
   "execution_count": 13,
   "metadata": {},
   "outputs": [
    {
     "output_type": "stream",
     "name": "stdout",
     "text": [
      "       word  frequency  importance  score\nApple    사과          5           4     20\nBanana  바나나          6           2     12\nCarrot   당근          6           1      6\n"
     ]
    }
   ],
   "source": [
    "#시리즈 연산하기\n",
    "import pandas as pd\n",
    "\n",
    "word_dict = {\n",
    "    'Apple' : '사과',\n",
    "    'Banana' : '바나나',\n",
    "    'Carrot' : '당근'\n",
    "}\n",
    "\n",
    "frequency_dict = {\n",
    "    'Apple' : 5,\n",
    "    'Banana' : 6,\n",
    "    'Carrot' : 6\n",
    "}\n",
    "\n",
    "importance_dict = {\n",
    "    'Apple' : 4,\n",
    "    'Banana' : 2,\n",
    "    'Carrot' : 1\n",
    "}\n",
    "\n",
    "word = pd.Series(word_dict)\n",
    "frequency = pd.Series(frequency_dict)\n",
    "importance = pd.Series(importance_dict)\n",
    "\n",
    "summary = pd.DataFrame({\n",
    "    'word' : word,\n",
    "    'frequency' : frequency,\n",
    "    'importance' : importance\n",
    "})\n",
    "\n",
    "score = summary['frequency'] * summary['importance']\n",
    "summary['score'] = score\n",
    "print(summary)\n"
   ]
  },
  {
   "cell_type": "code",
   "execution_count": 23,
   "metadata": {},
   "outputs": [
    {
     "output_type": "stream",
     "name": "stdout",
     "text": [
      "       word  frequency  importance\nApple    사과          5           4\nBanana  바나나          6           2\nCarrot   당근          6           1\nDurian  두리안          7           5\n"
     ]
    },
    {
     "output_type": "error",
     "ename": "NameError",
     "evalue": "name 'loc' is not defined",
     "traceback": [
      "\u001b[1;31m---------------------------------------------------------------------------\u001b[0m",
      "\u001b[1;31mNameError\u001b[0m                                 Traceback (most recent call last)",
      "\u001b[1;32m<ipython-input-23-041dbb6dff41>\u001b[0m in \u001b[0;36m<module>\u001b[1;34m\u001b[0m\n\u001b[0;32m     35\u001b[0m \u001b[1;33m\u001b[0m\u001b[0m\n\u001b[0;32m     36\u001b[0m \u001b[1;31m#이름을 기준으로 슬라이싱\u001b[0m\u001b[1;33m\u001b[0m\u001b[1;33m\u001b[0m\u001b[1;33m\u001b[0m\u001b[0m\n\u001b[1;32m---> 37\u001b[1;33m \u001b[0mprint\u001b[0m\u001b[1;33m(\u001b[0m\u001b[0msummary\u001b[0m\u001b[1;33m,\u001b[0m \u001b[0mloc\u001b[0m\u001b[1;33m[\u001b[0m\u001b[1;34m'Banana'\u001b[0m \u001b[1;33m:\u001b[0m \u001b[1;34m'Carrot'\u001b[0m\u001b[1;33m,\u001b[0m \u001b[1;34m'importance'\u001b[0m \u001b[1;33m:\u001b[0m \u001b[1;33m]\u001b[0m\u001b[1;33m)\u001b[0m\u001b[1;33m\u001b[0m\u001b[1;33m\u001b[0m\u001b[0m\n\u001b[0m\u001b[0;32m     38\u001b[0m \u001b[1;33m\u001b[0m\u001b[0m\n\u001b[0;32m     39\u001b[0m \u001b[1;31m#인덱스를 기준으로 슬라이싱\u001b[0m\u001b[1;33m\u001b[0m\u001b[1;33m\u001b[0m\u001b[1;33m\u001b[0m\u001b[0m\n",
      "\u001b[1;31mNameError\u001b[0m: name 'loc' is not defined"
     ]
    }
   ],
   "source": [
    "#데이터 프레임 슬라이싱\n",
    "import pandas as pd\n",
    "\n",
    "word_dict = {\n",
    "    'Apple' : '사과',\n",
    "    'Banana' : '바나나',\n",
    "    'Carrot' : '당근',\n",
    "    'Durian' : '두리안'\n",
    "}\n",
    "\n",
    "frequency_dict = {\n",
    "    'Apple' : 5,\n",
    "    'Banana' : 6,\n",
    "    'Carrot' : 6,\n",
    "    'Durian' : 7\n",
    "}\n",
    "\n",
    "importance_dict = {\n",
    "    'Apple' : 4,\n",
    "    'Banana' : 2,\n",
    "    'Carrot' : 1,\n",
    "    'Durian' : 5\n",
    "}\n",
    "\n",
    "word = pd.Series(word_dict)\n",
    "frequency = pd.Series(frequency_dict)\n",
    "importance = pd.Series(importance_dict)\n",
    "\n",
    "summary = pd.DataFrame({\n",
    "    'word' : word,\n",
    "    'frequency' : frequency,\n",
    "    'importance' : importance\n",
    "})\n",
    "\n",
    "print(summary)\n",
    "\n",
    "#이름을 기준으로 슬라이싱\n",
    "print(summary, loc['Banana' : 'Carrot', 'importance' : ])\n",
    "\n",
    "#인덱스를 기준으로 슬라이싱\n",
    "print(summary, iloc[1:3, 2:])"
   ]
  },
  {
   "cell_type": "code",
   "execution_count": 24,
   "metadata": {},
   "outputs": [
    {
     "output_type": "stream",
     "name": "stdout",
     "text": [
      "       word  frequency  importance\nApple    사과        5.0           4\nBanana  바나나        6.0           2\nCarrot   당근        NaN           1\nDurian  두리안        7.0           5\n        word  frequency  importance\nApple   True       True        True\nBanana  True       True        True\nCarrot  True      False        True\nDurian  True       True        True\n         word  frequency  importance\nApple   False      False       False\nBanana  False      False       False\nCarrot  False       True       False\nDurian  False      False       False\n       word frequency  importance\nApple    사과       5.0           4\nBanana  바나나       6.0           2\nCarrot   당근     데이터없음           1\nDurian  두리안       7.0           5\n"
     ]
    }
   ],
   "source": [
    "#데이터 프레임의 NUll 여부 확인\n",
    "import pandas as pd\n",
    "import numpy as np\n",
    "\n",
    "word_dict = {\n",
    "    'Apple' : '사과',\n",
    "    'Banana' : '바나나',\n",
    "    'Carrot' : '당근',\n",
    "    'Durian' : '두리안'\n",
    "}\n",
    "\n",
    "frequency_dict = {\n",
    "    'Apple' : 5,\n",
    "    'Banana' : 6,\n",
    "    'Carrot' : np.nan,\n",
    "    'Durian' : 7\n",
    "}\n",
    "\n",
    "importance_dict = {\n",
    "    'Apple' : 4,\n",
    "    'Banana' : 2,\n",
    "    'Carrot' : 1,\n",
    "    'Durian' : 5\n",
    "}\n",
    "\n",
    "word = pd.Series(word_dict)\n",
    "frequency = pd.Series(frequency_dict)\n",
    "importance = pd.Series(importance_dict)\n",
    "\n",
    "summary = pd.DataFrame({\n",
    "    'word' : word,\n",
    "    'frequency' : frequency,\n",
    "    'importance' : importance\n",
    "})\n",
    "\n",
    "print(summary)\n",
    "print(summary.notnull())\n",
    "print(summary.isnull())\n",
    "summary['frequency'] = summary['frequency'].fillna('데이터없음')\n",
    "print(summary)"
   ]
  },
  {
   "cell_type": "code",
   "execution_count": 26,
   "metadata": {},
   "outputs": [
    {
     "output_type": "stream",
     "name": "stdout",
     "text": [
      "A    1.0\nB    6.0\nC    8.0\nD    6.0\ndtype: float64\n"
     ]
    }
   ],
   "source": [
    "#시리즈 자료형의 연산시리즈 자료형의 연산\n",
    "import pandas as pd\n",
    "\n",
    "array1 = pd.Series([1, 2, 3], index = ['A', 'B', 'C'])\n",
    "array2 = pd.Series([4, 5, 6], index = ['B', 'C', 'D'])\n",
    "\n",
    "array = array1.add(array2, fill_value = 0)\n",
    "print(array)"
   ]
  },
  {
   "cell_type": "code",
   "execution_count": 29,
   "metadata": {},
   "outputs": [
    {
     "output_type": "stream",
     "name": "stdout",
     "text": [
      "   0  1\nA  1  2\nB  3  4\n   0  1  2\nB  1  2  3\nC  4  5  6\nD  7  8  9\n     0    1    2\nA  1.0  2.0  NaN\nB  4.0  6.0  3.0\nC  4.0  5.0  6.0\nD  7.0  8.0  9.0\n"
     ]
    }
   ],
   "source": [
    "#데이터 프레임 자료형의 연산데이터 프레임 자료형의 연산\n",
    "import pandas as pd\n",
    "\n",
    "array1 = pd.DataFrame([[1, 2], [3, 4]], index = ['A', 'B'] )\n",
    "array2 = pd.DataFrame([[1, 2, 3], [4, 5, 6], [7, 8, 9]], index = ['B', 'C', 'D'])\n",
    "\n",
    "print(array1)\n",
    "print(array2)\n",
    "\n",
    "array = array1.add(array2, fill_value = 0)\n",
    "print(array)"
   ]
  },
  {
   "cell_type": "code",
   "execution_count": 31,
   "metadata": {},
   "outputs": [
    {
     "output_type": "stream",
     "name": "stdout",
     "text": [
      "     0    1    2\nA  1.0  2.0  NaN\nB  4.0  6.0  3.0\nC  4.0  5.0  6.0\nD  7.0  8.0  9.0\n컬럼 1의 합: 21.0\n0    16.0\n1    21.0\n2    18.0\ndtype: float64\n"
     ]
    }
   ],
   "source": [
    "#데이터 프레임 집계 함수\n",
    "import pandas as pd\n",
    "\n",
    "array1 = pd.DataFrame([[1, 2], [3, 4]], index = ['A', 'B'] )\n",
    "array2 = pd.DataFrame([[1, 2, 3], [4, 5, 6], [7, 8, 9]], index = ['B', 'C', 'D'])\n",
    "\n",
    "array = array1.add(array2, fill_value = 0)\n",
    "print(array)\n",
    "print('컬럼 1의 합:', array[1].sum())\n",
    "print(array.sum())"
   ]
  },
  {
   "cell_type": "code",
   "execution_count": 32,
   "metadata": {},
   "outputs": [
    {
     "output_type": "stream",
     "name": "stdout",
     "text": [
      "       word  frequency  importance\nApple    사과        5.0           4\nBanana  바나나        6.0           2\nCarrot   당근        NaN           1\nDurian  두리안        7.0           5\n       word  frequency  importance\nDurian  두리안        7.0           5\nBanana  바나나        6.0           2\nApple    사과        5.0           4\nCarrot   당근        NaN           1\n"
     ]
    }
   ],
   "source": [
    "#데이터 프레임 정렬 함수데이터 프레임 정렬 함수\n",
    "import pandas as pd\n",
    "import numpy as np\n",
    "\n",
    "word_dict = {\n",
    "    'Apple' : '사과',\n",
    "    'Banana' : '바나나',\n",
    "    'Carrot' : '당근',\n",
    "    'Durian' : '두리안'\n",
    "}\n",
    "\n",
    "frequency_dict = {\n",
    "    'Apple' : 5,\n",
    "    'Banana' : 6,\n",
    "    'Carrot' : np.nan,\n",
    "    'Durian' : 7\n",
    "}\n",
    "\n",
    "importance_dict = {\n",
    "    'Apple' : 4,\n",
    "    'Banana' : 2,\n",
    "    'Carrot' : 1,\n",
    "    'Durian' : 5\n",
    "}\n",
    "\n",
    "word = pd.Series(word_dict)\n",
    "frequency = pd.Series(frequency_dict)\n",
    "importance = pd.Series(importance_dict)\n",
    "\n",
    "summary = pd.DataFrame({\n",
    "    'word' : word,\n",
    "    'frequency' : frequency,\n",
    "    'importance' : importance\n",
    "})\n",
    "\n",
    "print(summary)\n",
    "summary = summary.sort_values('frequency', ascending=False)\n",
    "print(summary)\n"
   ]
  },
  {
   "cell_type": "code",
   "execution_count": 37,
   "metadata": {},
   "outputs": [
    {
     "output_type": "stream",
     "name": "stdout",
     "text": [
      "   A  B\n0  1  9\n1  3  4\n0    True\n1    True\nName: A, dtype: bool\n   A  B\n1  3  4\n"
     ]
    }
   ],
   "source": [
    "#데이터 프레임의 마스킹\n",
    "import numpy as np\n",
    "import pandas as pd\n",
    "\n",
    "#데이터 프레임 출력하기\n",
    "print(df)\n",
    "#컬럼 A의 각 원소가 5보다 작거나 같은지 출력\n",
    "print(df[\"A\"] <= 5)\n",
    "#컬럼 A의 원소가 5보다 작고, 컬럼 B의 원소가 8보다 작은 행 추출\n",
    "print(df.query(\"A <= 5 and B < 8\"))"
   ]
  },
  {
   "cell_type": "code",
   "execution_count": 38,
   "metadata": {},
   "outputs": [
    {
     "output_type": "stream",
     "name": "stdout",
     "text": [
      "   A  B  C  D\n0  1  2  3  4\n1  1  2  3  4\n   A  B  C  D\n0  2  3  4  5\n1  2  3  4  5\n   A  B  C  D\n0  3  4  5  6\n1  3  4  5  6\n"
     ]
    }
   ],
   "source": [
    "#데이터 프레임의 개별 연산\n",
    "import pandas as pd\n",
    "\n",
    "df = pd.DataFrame([[1, 2, 3, 4], [1, 2, 3, 4]], index = [0, 1], columns = [\"A\", \"B\", \"C\", \"D\"])\n",
    "print(df)\n",
    "\n",
    "df= df.apply(lambda x : x + 1)\n",
    "print(df)\n",
    "\n",
    "def addOne(x):\n",
    "    return x + 1\n",
    "\n",
    "df = df.apply(addOne)\n",
    "print(df)"
   ]
  },
  {
   "cell_type": "code",
   "execution_count": 43,
   "metadata": {},
   "outputs": [
    {
     "output_type": "stream",
     "name": "stdout",
     "text": [
      "        A      B       C       D\n0   Apple  Apple  Banana  Durian\n1  Carrot    Cat  Durian    Duck\n          A         B       C       D\n0  Aligator  Aligator  Banana  Durian\n1    Carrot       Cat  Durian    Duck\n"
     ]
    }
   ],
   "source": [
    "#데이터 프레임의 개별 연산\n",
    "import pandas as pd\n",
    "\n",
    "df = pd.DataFrame([\n",
    "    ['Apple' , 'Apple', 'Banana' , 'Durian'],\n",
    "    ['Carrot' , 'Cat', 'Durian' , 'Duck']],\n",
    "    index = [0, 1],\n",
    "    columns = ['A', 'B', 'C', 'D'])\n",
    "\n",
    "print(df)\n",
    "df = df.replace({'Apple' : 'Aligator'})\n",
    "print(df)"
   ]
  },
  {
   "cell_type": "code",
   "execution_count": 45,
   "metadata": {},
   "outputs": [
    {
     "output_type": "stream",
     "name": "stdout",
     "text": [
      "     Name  Frequency     Type\n0   Aplle          7    Fruit\n1  Banana          3    Fruit\n2    Crab          2  Seafood\n3    Meat          5     Meal\n         Frequency\nType              \nFruit           10\nMeal             5\nSeafood          2\n"
     ]
    }
   ],
   "source": [
    "#데이터 프레임의 그룹화\n",
    "import pandas as pd\n",
    "\n",
    "df = pd.DataFrame([\n",
    "    ['Aplle',7, 'Fruit'],\n",
    "    ['Banana', 3, 'Fruit'],\n",
    "    ['Crab', 2, 'Seafood'],\n",
    "    ['Meat', 5, 'Meal']], \n",
    "    columns = ['Name', 'Frequency', 'Type'])\n",
    "\n",
    "print(df)\n",
    "print(df.groupby(['Type']).sum())"
   ]
  },
  {
   "cell_type": "code",
   "execution_count": 46,
   "metadata": {},
   "outputs": [
    {
     "output_type": "stream",
     "name": "stdout",
     "text": [
      "     Name  Frequency  Importance     Type\n0   Aplle          7           5    Fruit\n1  Banana          3           4    Fruit\n2    Crab          2           6  Seafood\n3    Meat          5           7     Meal\n        Frequency             Importance            \n              min max average        min max average\nType                                                \nFruit           3   7       5          4   5     4.5\nMeal            5   5       5          7   7     7.0\nSeafood         2   2       2          6   6     6.0\n"
     ]
    }
   ],
   "source": [
    "#데이터 프레임의 그룹화\n",
    "import numpy as np\n",
    "import pandas as pd\n",
    "\n",
    "df = pd.DataFrame([\n",
    "    ['Aplle',7, 5, 'Fruit'],\n",
    "    ['Banana', 3, 4, 'Fruit'],\n",
    "    ['Crab', 2, 6, 'Seafood'],\n",
    "    ['Meat', 5, 7, 'Meal']], \n",
    "    columns = ['Name', 'Frequency', 'Importance', 'Type'])\n",
    "\n",
    "print(df)\n",
    "print(df.groupby(['Type']).aggregate([min, max, np.average]))"
   ]
  },
  {
   "cell_type": "code",
   "execution_count": 47,
   "metadata": {},
   "outputs": [
    {
     "output_type": "stream",
     "name": "stdout",
     "text": [
      "     Name  Frequency  Importance     Type\n0   Aplle          7           5    Fruit\n1  Banana          3           4    Fruit\n2    Crab          2           6  Seafood\n3    Meat          5           7     Meal\n     Name  Frequency  Importance   Type\n0   Aplle          7           5  Fruit\n1  Banana          3           4  Fruit\n3    Meat          5           7   Meal\n"
     ]
    }
   ],
   "source": [
    "#데이터 프레임의 그룹화\n",
    "import pandas as pd\n",
    "\n",
    "df = pd.DataFrame([\n",
    "    ['Aplle',7, 5, 'Fruit'],\n",
    "    ['Banana', 3, 4, 'Fruit'],\n",
    "    ['Crab', 2, 6, 'Seafood'],\n",
    "    ['Meat', 5, 7, 'Meal']], \n",
    "    columns = ['Name', 'Frequency', 'Importance', 'Type'])\n",
    "\n",
    "def my_filter(data):\n",
    "    return data['Frequency'].mean() >= 5\n",
    "\n",
    "print(df)\n",
    "df= df.groupby('Type').filter(my_filter)\n",
    "print(df)\n"
   ]
  },
  {
   "cell_type": "code",
   "execution_count": 49,
   "metadata": {},
   "outputs": [
    {
     "output_type": "stream",
     "name": "stdout",
     "text": [
      "     Name  Frequency  Importance   Type\n0   Aplle          7           5  Fruit\n1  Banana          3           4  Fruit\n"
     ]
    }
   ],
   "source": [
    "#데이터 프레임의 그룹화\n",
    "import pandas as pd\n",
    "\n",
    "df = pd.DataFrame([\n",
    "    ['Aplle',7, 5, 'Fruit'],\n",
    "    ['Banana', 3, 4, 'Fruit'],\n",
    "    ['Crab', 2, 6, 'Seafood'],\n",
    "    ['Meat', 5, 7, 'Meal']], \n",
    "    columns = ['Name', 'Frequency', 'Importance', 'Type'])\n",
    "\n",
    "df = df.groupby('Type').get_group('Fruit')\n",
    "print(df)"
   ]
  },
  {
   "cell_type": "code",
   "execution_count": 51,
   "metadata": {},
   "outputs": [
    {
     "output_type": "stream",
     "name": "stdout",
     "text": [
      "     Name  Frequency  Importance     Type  Gap\n0   Aplle          7           5    Fruit  2.0\n1  Banana          3           4    Fruit -2.0\n2    Crab          2           6  Seafood  0.0\n3    Meat          5           7     Meal  0.0\n"
     ]
    }
   ],
   "source": [
    "#데이터 프레임의 그룹화\n",
    "import pandas as pd\n",
    "\n",
    "df = pd.DataFrame([\n",
    "    ['Aplle',7, 5, 'Fruit'],\n",
    "    ['Banana', 3, 4, 'Fruit'],\n",
    "    ['Crab', 2, 6, 'Seafood'],\n",
    "    ['Meat', 5, 7, 'Meal']], \n",
    "    columns = ['Name', 'Frequency', 'Importance', 'Type'])\n",
    "\n",
    "df['Gap'] = df.groupby('Type')['Frequency'].apply(lambda x: x - x.mean())\n",
    "print(df)"
   ]
  },
  {
   "cell_type": "code",
   "execution_count": null,
   "metadata": {},
   "outputs": [],
   "source": [
    "#데이터 프레임의 다중화\n",
    "import numpy as np\n",
    "import pandas as pd\n",
    "\n",
    "df = df.DataFrame(\n",
    "    np.random.randint(1, 10, (4, 4)),\n",
    "    index = [['1차', '1차', '2차', '2차'], ['공격', '수비', '공격', '수비']], columns = ['1회', '2회', '3회', '4회']\n",
    ")\n",
    "\n",
    "print(df)\n",
    "print(df[[\"1회\", \"2회\"]].loc[\"2차\"])"
   ]
  },
  {
   "cell_type": "code",
   "execution_count": 55,
   "metadata": {},
   "outputs": [
    {
     "output_type": "stream",
     "name": "stdout",
     "text": [
      "      Name  Frequency  Importance     Type\n0    Aplle          7           5    Fruit\n1   Banana          3           4    Fruit\n2  Coconut          2           6    Fruit\n3     Crab          2           6  Seafood\n4     Meat          5           7     Meal\n5     Rice          4           8     Meal\nType        Fruit  Meal  Seafood\nImportance                      \n4             3.0   NaN      NaN\n5             7.0   NaN      NaN\n6             2.0   NaN      2.0\n7             NaN   5.0      NaN\n8             NaN   4.0      NaN\n"
     ]
    }
   ],
   "source": [
    "#피벗 테이블의 기초\n",
    "import numpy as np\n",
    "import pandas as pd\n",
    "\n",
    "df = pd.DataFrame([\n",
    "    ['Aplle',7, 5, 'Fruit'],\n",
    "    ['Banana', 3, 4, 'Fruit'],\n",
    "    ['Coconut', 2, 6, 'Fruit'],\n",
    "    ['Crab', 2, 6, 'Seafood'],\n",
    "    ['Meat', 5, 7, 'Meal'],\n",
    "    ['Rice', 4, 8, 'Meal']], \n",
    "    columns = ['Name', 'Frequency', 'Importance', 'Type'])\n",
    "\n",
    "print(df)\n",
    "df = df.pivot_table(\n",
    "    index = 'Importance', columns = 'Type', values = 'Frequency', aggfunc = np.max\n",
    ")\n",
    "\n",
    "print(df)"
   ]
  },
  {
   "cell_type": "code",
   "execution_count": null,
   "metadata": {},
   "outputs": [],
   "source": []
  }
 ]
}