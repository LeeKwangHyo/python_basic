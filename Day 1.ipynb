{
 "metadata": {
  "language_info": {
   "codemirror_mode": {
    "name": "ipython",
    "version": 3
   },
   "file_extension": ".py",
   "mimetype": "text/x-python",
   "name": "python",
   "nbconvert_exporter": "python",
   "pygments_lexer": "ipython3",
   "version": "3.9.6"
  },
  "orig_nbformat": 4,
  "kernelspec": {
   "name": "python3",
   "display_name": "Python 3.9.6 64-bit"
  },
  "interpreter": {
   "hash": "ac59ebe37160ed0dfa835113d9b8498d9f09ceb179beaac4002f036b9467c963"
  }
 },
 "nbformat": 4,
 "nbformat_minor": 2,
 "cells": [
  {
   "cell_type": "code",
   "execution_count": 1,
   "metadata": {},
   "outputs": [
    {
     "output_type": "stream",
     "name": "stdout",
     "text": [
      "Hello world\n"
     ]
    }
   ],
   "source": [
    "print(\"Hello world\")"
   ]
  },
  {
   "cell_type": "code",
   "execution_count": 1,
   "metadata": {},
   "outputs": [
    {
     "output_type": "stream",
     "name": "stdout",
     "text": [
      "1번 학생은 합격입니다.\n2번 학생은 합격입니다.\n3번 학생은 불합격입니다.\n4번 학생은 불합격입니다.\n5번 학생은 합격입니다.\n"
     ]
    }
   ],
   "source": [
    "marks = [90, 66, 23, 47, 80]\n",
    "number = 0\n",
    "for mark in marks:\n",
    "    number = number + 1\n",
    "    if mark > 60:\n",
    "        print(\"%d번 학생은 합격입니다.\" % number)\n",
    "    else:\n",
    "        print(\"%d번 학생은 불합격입니다.\" % number)"
   ]
  },
  {
   "cell_type": "code",
   "execution_count": 2,
   "metadata": {},
   "outputs": [
    {
     "output_type": "stream",
     "name": "stdout",
     "text": [
      "돈을 받았으니 커피를 드리곘습니다.\n남은 커피는 9잔입니다.\n돈을 받았으니 커피를 드리곘습니다.\n남은 커피는 8잔입니다.\n돈을 받았으니 커피를 드리곘습니다.\n남은 커피는 7잔입니다.\n돈을 받았으니 커피를 드리곘습니다.\n남은 커피는 6잔입니다.\n돈을 받았으니 커피를 드리곘습니다.\n남은 커피는 5잔입니다.\n돈을 받았으니 커피를 드리곘습니다.\n남은 커피는 4잔입니다.\n돈을 받았으니 커피를 드리곘습니다.\n남은 커피는 3잔입니다.\n돈을 받았으니 커피를 드리곘습니다.\n남은 커피는 2잔입니다.\n돈을 받았으니 커피를 드리곘습니다.\n남은 커피는 1잔입니다.\n돈을 받았으니 커피를 드리곘습니다.\n남은 커피는 0잔입니다.\n커피 판매를 종료합니다.\n"
     ]
    }
   ],
   "source": [
    "coffee = 10\n",
    "money = 300\n",
    "\n",
    "while money:\n",
    "    print(\"돈을 받았으니 커피를 드리곘습니다.\")\n",
    "    coffee = coffee - 1\n",
    "    print(\"남은 커피는 %d잔입니다.\" %coffee)\n",
    "    if coffee == 0:\n",
    "        print(\"커피 판매를 종료합니다.\")\n",
    "        break"
   ]
  },
  {
   "cell_type": "code",
   "execution_count": null,
   "metadata": {},
   "outputs": [],
   "source": []
  }
 ]
}