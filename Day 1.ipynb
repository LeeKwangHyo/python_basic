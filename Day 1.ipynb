{
 "metadata": {
  "language_info": {
   "codemirror_mode": {
    "name": "ipython",
    "version": 3
   },
   "file_extension": ".py",
   "mimetype": "text/x-python",
   "name": "python",
   "nbconvert_exporter": "python",
   "pygments_lexer": "ipython3",
   "version": "3.9.6"
  },
  "orig_nbformat": 4,
  "kernelspec": {
   "name": "python3",
   "display_name": "Python 3.9.6 64-bit"
  },
  "interpreter": {
   "hash": "ac59ebe37160ed0dfa835113d9b8498d9f09ceb179beaac4002f036b9467c963"
  }
 },
 "nbformat": 4,
 "nbformat_minor": 2,
 "cells": [
  {
   "cell_type": "code",
   "execution_count": 1,
   "metadata": {},
   "outputs": [
    {
     "output_type": "stream",
     "name": "stdout",
     "text": [
      "Hello world\n"
     ]
    }
   ],
   "source": [
    "print(\"Hello world\")"
   ]
  },
  {
   "cell_type": "code",
   "execution_count": 1,
   "metadata": {},
   "outputs": [
    {
     "output_type": "stream",
     "name": "stdout",
     "text": [
      "1번 학생은 합격입니다.\n2번 학생은 합격입니다.\n3번 학생은 불합격입니다.\n4번 학생은 불합격입니다.\n5번 학생은 합격입니다.\n"
     ]
    }
   ],
   "source": [
    "marks = [90, 66, 23, 47, 80]\n",
    "number = 0\n",
    "for mark in marks:\n",
    "    number = number + 1\n",
    "    if mark > 60:\n",
    "        print(\"%d번 학생은 합격입니다.\" % number)\n",
    "    else:\n",
    "        print(\"%d번 학생은 불합격입니다.\" % number)"
   ]
  },
  {
   "cell_type": "code",
   "execution_count": 2,
   "metadata": {},
   "outputs": [
    {
     "output_type": "stream",
     "name": "stdout",
     "text": [
      "돈을 받았으니 커피를 드리곘습니다.\n남은 커피는 9잔입니다.\n돈을 받았으니 커피를 드리곘습니다.\n남은 커피는 8잔입니다.\n돈을 받았으니 커피를 드리곘습니다.\n남은 커피는 7잔입니다.\n돈을 받았으니 커피를 드리곘습니다.\n남은 커피는 6잔입니다.\n돈을 받았으니 커피를 드리곘습니다.\n남은 커피는 5잔입니다.\n돈을 받았으니 커피를 드리곘습니다.\n남은 커피는 4잔입니다.\n돈을 받았으니 커피를 드리곘습니다.\n남은 커피는 3잔입니다.\n돈을 받았으니 커피를 드리곘습니다.\n남은 커피는 2잔입니다.\n돈을 받았으니 커피를 드리곘습니다.\n남은 커피는 1잔입니다.\n돈을 받았으니 커피를 드리곘습니다.\n남은 커피는 0잔입니다.\n커피 판매를 종료합니다.\n"
     ]
    }
   ],
   "source": [
    "coffee = 10\n",
    "money = 300\n",
    "\n",
    "while money:\n",
    "    print(\"돈을 받았으니 커피를 드리곘습니다.\")\n",
    "    coffee = coffee - 1\n",
    "    print(\"남은 커피는 %d잔입니다.\" %coffee)\n",
    "    if coffee == 0:\n",
    "        print(\"커피 판매를 종료합니다.\")\n",
    "        break"
   ]
  },
  {
   "cell_type": "code",
   "execution_count": 5,
   "metadata": {},
   "outputs": [
    {
     "output_type": "stream",
     "name": "stdout",
     "text": [
      "2 4 6 8 10 12 14 16 18 \n3 6 9 12 15 18 21 24 27 \n4 8 12 16 20 24 28 32 36 \n5 10 15 20 25 30 35 40 45 \n6 12 18 24 30 36 42 48 54 \n7 14 21 28 35 42 49 56 63 \n8 16 24 32 40 48 56 64 72 \n9 18 27 36 45 54 63 72 81 \n"
     ]
    }
   ],
   "source": [
    "for i in range(2,10):\n",
    "    for j in range(1,10):\n",
    "        print(i*j, end =\" \")\n",
    "    print('')\n"
   ]
  },
  {
   "cell_type": "code",
   "execution_count": 8,
   "metadata": {},
   "outputs": [
    {
     "output_type": "stream",
     "name": "stdout",
     "text": [
      "[2, 4, 6, 8, 10, 12, 14, 16, 18, 3, 6, 9, 12, 15, 18, 21, 24, 27, 4, 8, 12, 16, 20, 24, 28, 32, 36, 5, 10, 15, 20, 25, 30, 35, 40, 45, 6, 12, 18, 24, 30, 36, 42, 48, 54, 7, 14, 21, 28, 35, 42, 49, 56, 63, 8, 16, 24, 32, 40, 48, 56, 64, 72, 9, 18, 27, 36, 45, 54, 63, 72, 81]\n"
     ]
    }
   ],
   "source": [
    "result = [x * y for x in range(2,10) for y in range(1,10)]\n",
    "print(result)"
   ]
  },
  {
   "cell_type": "code",
   "execution_count": 4,
   "metadata": {},
   "outputs": [
    {
     "output_type": "stream",
     "name": "stdout",
     "text": [
      "3\n7\n3\n10\n"
     ]
    }
   ],
   "source": [
    "class Calculator:\n",
    "    def __init__(self):\n",
    "        self.result = 0\n",
    "\n",
    "    def add(self, num):\n",
    "        self.result += num\n",
    "        return self.result\n",
    "\n",
    "cal1 = Calculator()\n",
    "cal2 = Calculator()\n",
    "\n",
    "print(cal1.add(3))\n",
    "print(cal1.add(4))\n",
    "print(cal2.add(3))\n",
    "print(cal2.add(7))"
   ]
  },
  {
   "cell_type": "code",
   "execution_count": 5,
   "metadata": {},
   "outputs": [
    {
     "output_type": "stream",
     "name": "stdout",
     "text": [
      "1\n2\n"
     ]
    }
   ],
   "source": [
    "class FourCal:\n",
    "    def setdata(self, first, second):\n",
    "        self.first = first\n",
    "        self.second = second\n",
    "\n",
    "a = FourCal()\n",
    "a.setdata(1, 2)\n",
    "print(a.first)\n",
    "print(a.second)"
   ]
  },
  {
   "cell_type": "code",
   "execution_count": 7,
   "metadata": {},
   "outputs": [
    {
     "output_type": "stream",
     "name": "stdout",
     "text": [
      "6\n"
     ]
    }
   ],
   "source": [
    "class FourCal:\n",
    "    def setdata(self, first, second):\n",
    "        self.first = first\n",
    "        self.second = second\n",
    "    def add(self):\n",
    "        result = self.first + self.second\n",
    "        return result\n",
    "\n",
    "a = FourCal()\n",
    "a.setdata(4, 2)\n",
    "print(a.add())"
   ]
  },
  {
   "cell_type": "code",
   "execution_count": 9,
   "metadata": {},
   "outputs": [
    {
     "output_type": "stream",
     "name": "stdout",
     "text": [
      "16\n"
     ]
    }
   ],
   "source": [
    "class FourCal:\n",
    "    def __init__(self, first, second):\n",
    "        self.first = first\n",
    "        self.second = second\n",
    "    def setdata(self, first, second):\n",
    "        self.first = first\n",
    "        self.second = second\n",
    "    def add(self):\n",
    "        result = self.first + self.second\n",
    "        return result\n",
    "\n",
    "class MoreFourCal(FourCal):\n",
    "    def pow(self):\n",
    "        result = self.first ** self.second\n",
    "        return result\n",
    "\n",
    "a = MoreFourCal(4, 2)\n",
    "print(a.pow())\n"
   ]
  },
  {
   "cell_type": "code",
   "execution_count": 10,
   "metadata": {},
   "outputs": [
    {
     "output_type": "stream",
     "name": "stdout",
     "text": [
      "이\n이\n이\n"
     ]
    }
   ],
   "source": [
    "class Family:\n",
    "    lastname = \"김\"\n",
    "\n",
    "Family.lastname = \"이\"\n",
    "print(Family.lastname)\n",
    "\n",
    "a = Family()\n",
    "b = Family()\n",
    "print(a.lastname)\n",
    "print(b.lastname)"
   ]
  },
  {
   "cell_type": "code",
   "execution_count": 2,
   "metadata": {},
   "outputs": [
    {
     "output_type": "stream",
     "name": "stdout",
     "text": [
      "very fast\n"
     ]
    }
   ],
   "source": [
    "class Bird:\n",
    "    def fly(self):\n",
    "        raise NotImplementedError\n",
    "\n",
    "class Eagle(Bird):\n",
    "    def fly(self):\n",
    "        print(\"very fast\")\n",
    "\n",
    "eagle = Eagle()\n",
    "eagle.fly()"
   ]
  },
  {
   "cell_type": "code",
   "execution_count": 4,
   "metadata": {},
   "outputs": [
    {
     "output_type": "stream",
     "name": "stdout",
     "text": [
      "[1, 2, 6]\n"
     ]
    }
   ],
   "source": [
    "def positive(x):\n",
    "    return x > 0\n",
    "\n",
    "a = list(filter(positive, [1, -3, 2, 0, -5, 6]))\n",
    "print(a)"
   ]
  },
  {
   "cell_type": "code",
   "execution_count": 1,
   "metadata": {},
   "outputs": [
    {
     "output_type": "stream",
     "name": "stdout",
     "text": [
      "[2, 4, 6, 8, 10, 12, 14, 16, 18]\n"
     ]
    }
   ],
   "source": [
    "def Gugu(n):\n",
    "    result = []\n",
    "    i = 1\n",
    "    while i < 10:\n",
    "        result.append(n*i)\n",
    "        i = i + 1\n",
    "    return result\n",
    "\n",
    "print(Gugu(2))\n"
   ]
  },
  {
   "cell_type": "code",
   "execution_count": 7,
   "metadata": {},
   "outputs": [
    {
     "output_type": "stream",
     "name": "stdout",
     "text": [
      "233168\n"
     ]
    }
   ],
   "source": [
    "#1000 미만에서 3과 5의 배수를 모두 더하면?\n",
    "result = 0\n",
    "for n in range(1,1000):\n",
    "    if n % 3 == 0 or n % 5 == 0:\n",
    "        result += n\n",
    "print(result)\n",
    "\n"
   ]
  },
  {
   "cell_type": "code",
   "execution_count": 9,
   "metadata": {},
   "outputs": [
    {
     "output_type": "stream",
     "name": "stdout",
     "text": [
      "1\n2\n3\n3\n"
     ]
    }
   ],
   "source": [
    "#게시판 페이징하기(m = 게시물의 총 건수, n = 페이지당 보여줄 게시물 수))\n",
    "def getTotalpage(m, n):\n",
    "    if m % n == 0:\n",
    "        return m // n\n",
    "    else:\n",
    "        return m // n + 1\n",
    "\n",
    "print(getTotalpage(5, 10))\n",
    "print(getTotalpage(15, 10))\n",
    "print(getTotalpage(25, 10))\n",
    "print(getTotalpage(30, 10))"
   ]
  },
  {
   "cell_type": "code",
   "execution_count": 1,
   "metadata": {},
   "outputs": [
    {
     "output_type": "stream",
     "name": "stdout",
     "text": [
      "<re.Match object; span=(0, 6), match='python'>\n"
     ]
    }
   ],
   "source": [
    "import re\n",
    "p = re.compile('[a-z]+')\n",
    "m = p.match('python')\n",
    "print(m)"
   ]
  },
  {
   "cell_type": "code",
   "execution_count": 3,
   "metadata": {},
   "outputs": [
    {
     "output_type": "stream",
     "name": "stdout",
     "text": [
      "<re.Match object; span=(2, 8), match='python'>\n"
     ]
    }
   ],
   "source": [
    "import re\n",
    "p = re.compile('[a-z]+')\n",
    "m = p.search('3 python')\n",
    "print(m)"
   ]
  },
  {
   "cell_type": "code",
   "execution_count": 4,
   "metadata": {},
   "outputs": [
    {
     "output_type": "stream",
     "name": "stdout",
     "text": [
      "['life', 'is', 'too', 'short']\n"
     ]
    }
   ],
   "source": [
    "import re\n",
    "p = re.compile('[a-z]+')\n",
    "m = p.findall('life is too short')\n",
    "print(m)"
   ]
  },
  {
   "cell_type": "code",
   "execution_count": 5,
   "metadata": {},
   "outputs": [
    {
     "output_type": "stream",
     "name": "stdout",
     "text": [
      "python\n0\n6\n(0, 6)\n"
     ]
    }
   ],
   "source": [
    "import re\n",
    "p = re.compile('[a-z]+')\n",
    "m = p.match('python')\n",
    "print(m.group())\n",
    "print(m.start())\n",
    "print(m.end())\n",
    "print(m.span())"
   ]
  },
  {
   "cell_type": "code",
   "execution_count": 6,
   "metadata": {},
   "outputs": [
    {
     "output_type": "stream",
     "name": "stdout",
     "text": [
      "<re.Match object; span=(0, 3), match='a\\nb'>\n"
     ]
    }
   ],
   "source": [
    "#DOTALL, S\n",
    "import re\n",
    "p = re.compile('a.b', re.S)\n",
    "m = p.match('a\\nb')\n",
    "print(m)\n",
    " "
   ]
  },
  {
   "cell_type": "code",
   "execution_count": 9,
   "metadata": {},
   "outputs": [
    {
     "output_type": "stream",
     "name": "stdout",
     "text": [
      "<re.Match object; span=(0, 1), match='p'>\n<re.Match object; span=(0, 1), match='P'>\n<re.Match object; span=(0, 1), match='P'>\n"
     ]
    }
   ],
   "source": [
    "#IGNORECASE, I\n",
    "import re\n",
    "p = re.compile('[a-z]', re.I)\n",
    "print(p.match('python'))\n",
    "print(p.match('Python'))\n",
    "print(p.match('PYTHON'))"
   ]
  },
  {
   "cell_type": "code",
   "execution_count": 10,
   "metadata": {},
   "outputs": [
    {
     "output_type": "stream",
     "name": "stdout",
     "text": [
      "['python one', 'python two', 'python three']\n"
     ]
    }
   ],
   "source": [
    "#MULTILINE, M\n",
    "import re\n",
    "p = re.compile(\"^python\\s\\w+\", re.M)\n",
    "\n",
    "data = \"\"\"python one\n",
    "life is too short\n",
    "python two\n",
    "you need python\n",
    "python three\"\"\"\n",
    "\n",
    "print(p.findall(data))"
   ]
  },
  {
   "cell_type": "code",
   "execution_count": 11,
   "metadata": {},
   "outputs": [
    {
     "output_type": "stream",
     "name": "stdout",
     "text": [
      "<re.Match object; span=(0, 4), match='Crow'>\n"
     ]
    }
   ],
   "source": [
    "#메타문자 |\n",
    "import re\n",
    "p = re.compile('Crow|Servo')\n",
    "m = p.match('CrowHello')\n",
    "print(m)"
   ]
  },
  {
   "cell_type": "code",
   "execution_count": 13,
   "metadata": {},
   "outputs": [
    {
     "output_type": "stream",
     "name": "stdout",
     "text": [
      "<re.Match object; span=(0, 4), match='LIfe'>\nNone\n"
     ]
    }
   ],
   "source": [
    "#메타문자 ^\n",
    "import re\n",
    "print(re.search('^LIfe', 'LIfe is too short'))\n",
    "print(re.search('^Life', 'My Life'))\n"
   ]
  },
  {
   "cell_type": "code",
   "execution_count": 14,
   "metadata": {},
   "outputs": [
    {
     "output_type": "stream",
     "name": "stdout",
     "text": [
      "<re.Match object; span=(3, 8), match='class'>\nNone\nNone\n"
     ]
    }
   ],
   "source": [
    "#메타문자 \\b >> 공백\n",
    "import re\n",
    "p = re.compile(r'\\bclass\\b')\n",
    "print(p.search('no class at all'))\n",
    "print(p.search('the declassified algorithm'))\n",
    "print(p.search('one subclass is'))\n"
   ]
  },
  {
   "cell_type": "code",
   "execution_count": 16,
   "metadata": {},
   "outputs": [
    {
     "output_type": "stream",
     "name": "stdout",
     "text": [
      "<re.Match object; span=(0, 9), match='ABCABCABC'>\nABCABCABC\n"
     ]
    }
   ],
   "source": [
    "#그루핑 ()\n",
    "import re\n",
    "p = re.compile('(ABC)+')\n",
    "m = p.search('ABCABCABC OK?')\n",
    "print(m)\n",
    "print(m.group())"
   ]
  },
  {
   "cell_type": "code",
   "execution_count": 21,
   "metadata": {},
   "outputs": [
    {
     "output_type": "stream",
     "name": "stdout",
     "text": [
      "http\n"
     ]
    }
   ],
   "source": [
    "#전방탐색 : 긍정형 (?=)\n",
    "import re\n",
    "p = re.compile(\".+(?=:)\")\n",
    "m = p.search(\"http:google.com\")\n",
    "print(m.group())"
   ]
  },
  {
   "cell_type": "code",
   "execution_count": 24,
   "metadata": {},
   "outputs": [
    {
     "output_type": "stream",
     "name": "stdout",
     "text": [
      "['autoexec.exe', 'autoexec.jpg']\n"
     ]
    }
   ],
   "source": [
    "#전방탐색 : 부정형 (?!)\n",
    "import re\n",
    "p = re.compile(\".*[.](?!bat$).*$\", re.M)\n",
    "l = p.findall(\"\"\"\n",
    "autoexec.exe\n",
    "autoexec.bat\n",
    "autoexec.jpg\n",
    "\"\"\")\n",
    "print(l)"
   ]
  },
  {
   "cell_type": "code",
   "execution_count": 26,
   "metadata": {},
   "outputs": [
    {
     "output_type": "execute_result",
     "data": {
      "text/plain": [
       "'colour socks and colour shoes'"
      ]
     },
     "metadata": {},
     "execution_count": 26
    }
   ],
   "source": [
    "#문자열 바꾸기 sub\n",
    "import re\n",
    "p = re.compile('(blue|whit|red)')\n",
    "p.sub('colour', 'blue socks and red shoes')"
   ]
  },
  {
   "cell_type": "code",
   "execution_count": 27,
   "metadata": {},
   "outputs": [
    {
     "output_type": "stream",
     "name": "stdout",
     "text": [
      "<html><head><title>Title</title>\n<html>\n"
     ]
    }
   ],
   "source": [
    "#Greedy vs Non-Greedy\n",
    "import re\n",
    "s = '<html><head><title>Title</title>'\n",
    "print(re.match('<.*>', s).group()) #Greedy : 다 가져오기\n",
    "print(re.match('<.*?>', s).group()) #Non-Greedy : 최소한으로 가져오기기"
   ]
  },
  {
   "cell_type": "code",
   "execution_count": null,
   "metadata": {},
   "outputs": [],
   "source": []
  }
 ]
}