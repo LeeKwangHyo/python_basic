{
 "metadata": {
  "language_info": {
   "codemirror_mode": {
    "name": "ipython",
    "version": 3
   },
   "file_extension": ".py",
   "mimetype": "text/x-python",
   "name": "python",
   "nbconvert_exporter": "python",
   "pygments_lexer": "ipython3",
   "version": "3.9.6"
  },
  "orig_nbformat": 4,
  "kernelspec": {
   "name": "python3",
   "display_name": "Python 3.9.6 64-bit"
  },
  "interpreter": {
   "hash": "ac59ebe37160ed0dfa835113d9b8498d9f09ceb179beaac4002f036b9467c963"
  }
 },
 "nbformat": 4,
 "nbformat_minor": 2,
 "cells": [
  {
   "cell_type": "code",
   "execution_count": 1,
   "metadata": {},
   "outputs": [
    {
     "output_type": "stream",
     "name": "stdout",
     "text": [
      "-29\n"
     ]
    }
   ],
   "source": [
    "def minus(a, b):\n",
    "    return a - b\n",
    "\n",
    "result = minus(b=30, a=1) # 인자의 순서를 신경쓰지 않음0\n",
    "print(result)"
   ]
  },
  {
   "cell_type": "code",
   "execution_count": 2,
   "metadata": {},
   "outputs": [
    {
     "output_type": "stream",
     "name": "stdout",
     "text": [
      "Hello LKH you are 23 years old\n"
     ]
    }
   ],
   "source": [
    "def say_hello(name, age):\n",
    "    return f\"Hello {name} you are {age} years old\" #f= format\n",
    "hello = say_hello(\"LKH\", \"23\")\n",
    "print(hello)"
   ]
  },
  {
   "cell_type": "code",
   "execution_count": 5,
   "metadata": {},
   "outputs": [
    {
     "output_type": "stream",
     "name": "stdout",
     "text": [
      "8\n2\n30\n2.0\n-2\n256\n0\n"
     ]
    }
   ],
   "source": [
    "def plus(a, b):\n",
    "    return(int(a) + int(b))\n",
    "\n",
    "def minus(a, b):\n",
    "    return(int(a) - int(b))\n",
    "\n",
    "def times(a, b):\n",
    "    return(int(a) * int(b))\n",
    "\n",
    "def division(a, b):\n",
    "    return(int(a) / int(b))\n",
    "\n",
    "def negation(a):\n",
    "    return(-int(a))\n",
    "\n",
    "def power(a, b):\n",
    "    return(int(a) ** int(b))\n",
    "\n",
    "def remainder(a, b):\n",
    "    return(int(a) & int(b))\n",
    "\n",
    "print(plus(3, \"5\"))\n",
    "print(minus(\"5\" , 3))\n",
    "print(times(\"5\", \"6\"))\n",
    "print(division(4, \"2\"))\n",
    "print(negation(\"2\"))\n",
    "print(power(\"2\", 8))\n",
    "print(remainder(8, 3))"
   ]
  },
  {
   "cell_type": "code",
   "execution_count": 12,
   "metadata": {},
   "outputs": [
    {
     "output_type": "stream",
     "name": "stdout",
     "text": [
      "None\nNone\n11\n"
     ]
    }
   ],
   "source": [
    "def plus(a, b):\n",
    "    if type(a) is str or type(b) is str:\n",
    "        return None\n",
    "    else:\n",
    "        return a + b\n",
    "\n",
    "print(plus(\"LKH\", 3))\n",
    "print(plus(4, \"LKH\"))\n",
    "print(plus(5, 6))"
   ]
  },
  {
   "cell_type": "code",
   "execution_count": 27,
   "metadata": {},
   "outputs": [
    {
     "output_type": "stream",
     "name": "stdout",
     "text": [
      "you are 23 years old\nenjoy your drink\nyou are 14 years old\nyou can't drink\nyou are 19 years old\nYou are new to this\n"
     ]
    }
   ],
   "source": [
    "def age_check(age):\n",
    "    print(f\"you are {age} years old\")\n",
    "    if age > 19:\n",
    "        print(\"enjoy your drink\")\n",
    "    elif age == 19:\n",
    "        print(\"You are new to this\")\n",
    "    else:\n",
    "        print(\"you can't drink\")\n",
    "\n",
    "age_check(23)\n",
    "age_check(14)\n",
    "age_check(19)\n"
   ]
  },
  {
   "cell_type": "code",
   "execution_count": 28,
   "metadata": {},
   "outputs": [
    {
     "output_type": "stream",
     "name": "stdout",
     "text": [
      "Mon\nTue\nWed\nThur\nFri\n"
     ]
    }
   ],
   "source": [
    "days = (\"Mon\", \"Tue\", \"Wed\", \"Thur\", \"Fri\")\n",
    "\n",
    "for day in days:\n",
    "    print(day)"
   ]
  },
  {
   "cell_type": "code",
   "execution_count": 31,
   "metadata": {},
   "outputs": [
    {
     "output_type": "stream",
     "name": "stdout",
     "text": [
      "Mon\nTue\nWed\n"
     ]
    }
   ],
   "source": [
    "days = (\"Mon\", \"Tue\", \"Wed\", \"Thur\", \"Fri\")\n",
    "\n",
    "for day in days:\n",
    "    if day == \"Thur\":\n",
    "        break\n",
    "    else:\n",
    "        print(day)"
   ]
  },
  {
   "cell_type": "code",
   "execution_count": 34,
   "metadata": {},
   "outputs": [
    {
     "output_type": "stream",
     "name": "stdout",
     "text": [
      "2\n1.2\n"
     ]
    }
   ],
   "source": [
    "import math\n",
    "\n",
    "print(math.ceil(1.4)) #올림\n",
    "print(math.fabs(-1.2))"
   ]
  },
  {
   "cell_type": "code",
   "execution_count": 35,
   "metadata": {},
   "outputs": [
    {
     "output_type": "stream",
     "name": "stdout",
     "text": [
      "3\n21.0\n"
     ]
    }
   ],
   "source": [
    "from math import ceil, fsum\n",
    "\n",
    "print(ceil(2.6))\n",
    "print(fsum([1,3,4,5,1,7]))\n"
   ]
  },
  {
   "cell_type": "code",
   "execution_count": null,
   "metadata": {},
   "outputs": [],
   "source": []
  }
 ]
}